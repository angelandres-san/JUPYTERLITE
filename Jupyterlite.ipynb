{
 "cells": [
  {
   "cell_type": "markdown",
   "metadata": {},
   "source": [
    "<center>\n",
    "    <img src=\"https://cf-courses-data.s3.us.cloud-object-storage.appdomain.cloud/IBMDeveloperSkillsNetwork-DS0105EN-SkillsNetwork/labs/Module2/images/SN_web_lightmode.png\" width=\"300\" alt=\"cognitiveclass.ai logo\">\n",
    "</center>\n"
   ]
  },
  {
   "cell_type": "markdown",
   "metadata": {},
   "source": [
    "#### Add your code below following the instructions given in the course\n"
   ]
  },
  {
   "cell_type": "markdown",
   "metadata": {},
   "source": [
    "# Jupyter Lite "
   ]
  },
  {
   "cell_type": "markdown",
   "metadata": {},
   "source": [
    "# # This notebook aims to explore the skills learned during the data science course."
   ]
  },
  {
   "cell_type": "markdown",
   "metadata": {},
   "source": [
    "# # # Data science languages:\n",
    "\n",
    "1. **Python**\n",
    "2. **R**\n",
    "3. **SQL**\n",
    "4. **Julia**\n",
    "5. **Scala**\n",
    "6. **Java**\n",
    "7. **MATLAB**"
   ]
  },
  {
   "cell_type": "markdown",
   "metadata": {},
   "source": [
    "# # # Data science libraries:\n",
    "\n",
    "- **Pandas**: Data manipulation and analysis.\n",
    "- **NumPy**: Numerical computing with support for arrays and matrices.\n",
    "- **Scikit-learn**: Machine learning algorithms and tools.\n",
    "- **Matplotlib**: Data visualization and plotting.\n",
    "- **Seaborn**: Statistical data visualization built on top of Matplotlib.\n",
    "- **TensorFlow**: Deep learning and neural networks.\n",
    "- **PyTorch**: Deep learning and neural networks.\n",
    "- **Statsmodels**: Statistical models and hypothesis testing.\n",
    "- **Keras**: High-level neural networks API, often used with TensorFlow.\n",
    "- **NLTK**: Natural language processing (NLP) tools.\n",
    "- **XGBoost**: Gradient boosting algorithms for classification and regression.\n",
    "- **Plotly**: Interactive data visualization.\n",
    "- **LightGBM**: Gradient boosting framework that is fast and scalable."
   ]
  },
  {
   "cell_type": "markdown",
   "metadata": {},
   "source": [
    "### Data Science Tools:\n",
    "\n",
    "| Tool            | Description                                       | Primary Use Case             |\n",
    "|-----------------|---------------------------------------------------|------------------------------|\n",
    "| **Python**      | General-purpose programming language               | Data analysis, machine learning, automation |\n",
    "| **R**           | Programming language for statistical computing     | Statistical analysis, visualization |\n",
    "| **SQL**         | Query language for relational databases            | Data extraction and management |\n",
    "| **Apache Spark**| Distributed computing framework                    | Big data processing, real-time analytics |\n",
    "| **Hadoop**      | Framework for distributed storage and processing   | Big data storage and processing |\n",
    "| **Tableau**     | Data visualization platform                        | Interactive data dashboards and reports |\n",
    "| **TensorFlow**  | Open-source library for machine learning            | Neural networks, deep learning |\n",
    "| **Jupyter**     | Interactive notebook for data analysis and coding  | Experimentation, data visualization |\n",
    "| **Excel**       | Spreadsheet application                            | Data entry, basic analysis, visualization |\n",
    "| **Power BI**    | Business analytics service                         | Data visualization, business reporting |"
   ]
  },
  {
   "cell_type": "markdown",
   "metadata": {
    "tags": []
   },
   "source": [
    "## Examples of Arithmetic Expressions\n",
    "\n",
    "1. **Addition**:  \n",
    "   \\( 5 + 3 = 8 \\)\n",
    "\n",
    "2. **Subtraction**:  \n",
    "   \\( 10 - 4 = 6 \\)\n",
    "\n",
    "3. **Multiplication**:  \n",
    "   \\( 6 \\times 7 = 42 \\)\n",
    "\n",
    "4. **Division**:  \n",
    "   \\( 20 \\div 4 = 5 \\)\n",
    "\n",
    "5. **Exponentiation**:  \n",
    "   \\( 2^3 = 8 \\)\n",
    "\n",
    "6. **Modulo (Remainder of a Division)**:  \n",
    "   \\( 10 \\mod 3 = 1 \\)\n",
    "\n",
    "7. **Combined Operations**:  \n",
    "   \\( (5 + 3) \\times (2 - 1) \\div 2 = 4 \\)"
   ]
  },
  {
   "cell_type": "code",
   "execution_count": 1,
   "metadata": {
    "tags": []
   },
   "outputs": [
    {
     "name": "stdout",
     "output_type": "stream",
     "text": [
      "Multiplication: 42\n",
      "Sum: 8\n"
     ]
    }
   ],
   "source": [
    "# Multiply two numbers\n",
    "multiplication_result = 6 * 7\n",
    "print(\"Multiplication:\", multiplication_result)\n",
    "# Add two numbers\n",
    "sum_result = 5 + 3\n",
    "print(\"Sum:\", sum_result)"
   ]
  },
  {
   "cell_type": "code",
   "execution_count": 3,
   "metadata": {
    "tags": []
   },
   "outputs": [
    {
     "name": "stdin",
     "output_type": "stream",
     "text": [
      "Enter the number of minutes:  100\n"
     ]
    },
    {
     "name": "stdout",
     "output_type": "stream",
     "text": [
      "100 minutes is equal to 1 hours and 40 minutes.\n"
     ]
    }
   ],
   "source": [
    "# Function to convert minutes to hours\n",
    "def convert_minutes_to_hours(minutes):\n",
    "    hours = minutes // 60  # Calculate the whole hours\n",
    "    remaining_minutes = minutes % 60  # Calculate the remaining minutes\n",
    "    return hours, remaining_minutes\n",
    "\n",
    "# Input: number of minutes\n",
    "minutes_input = int(input(\"Enter the number of minutes: \"))\n",
    "\n",
    "# Perform the conversion\n",
    "hours, remaining_minutes = convert_minutes_to_hours(minutes_input)\n",
    "\n",
    "# Output the result\n",
    "print(f\"{minutes_input} minutes is equal to {hours} hours and {remaining_minutes} minutes.\")"
   ]
  },
  {
   "cell_type": "code",
   "execution_count": 4,
   "metadata": {
    "tags": []
   },
   "outputs": [
    {
     "name": "stdout",
     "output_type": "stream",
     "text": [
      "Objectives:\n",
      "1. Complete the data analysis project by the end of the month.\n",
      "2. Learn the fundamentals of machine learning.\n",
      "3. Practice Python programming daily.\n",
      "4. Attend at least one data science webinar this month.\n",
      "5. Read a book on statistics for data science.\n"
     ]
    }
   ],
   "source": [
    "# List of objectives\n",
    "objectives = [\n",
    "    \"1. Complete the data analysis project by the end of the month.\",\n",
    "    \"2. Learn the fundamentals of machine learning.\",\n",
    "    \"3. Practice Python programming daily.\",\n",
    "    \"4. Attend at least one data science webinar this month.\",\n",
    "    \"5. Read a book on statistics for data science.\"\n",
    "]\n",
    "\n",
    "# Print the objectives\n",
    "print(\"Objectives:\")\n",
    "for objective in objectives:\n",
    "    print(objective)\n"
   ]
  },
  {
   "cell_type": "markdown",
   "metadata": {},
   "source": [
    "# ANGEL SANCHEZ"
   ]
  },
  {
   "cell_type": "code",
   "execution_count": null,
   "metadata": {},
   "outputs": [],
   "source": []
  }
 ],
 "metadata": {
  "kernelspec": {
   "display_name": "Python",
   "language": "python",
   "name": "conda-env-python-py"
  },
  "language_info": {
   "codemirror_mode": {
    "name": "ipython",
    "version": 3
   },
   "file_extension": ".py",
   "mimetype": "text/x-python",
   "name": "python",
   "nbconvert_exporter": "python",
   "pygments_lexer": "ipython3",
   "version": "3.7.12"
  }
 },
 "nbformat": 4,
 "nbformat_minor": 4
}
